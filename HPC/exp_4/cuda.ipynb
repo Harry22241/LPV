{
  "cells": [
    {
      "cell_type": "code",
      "execution_count": 1,
      "metadata": {
        "colab": {
          "base_uri": "https://localhost:8080/"
        },
        "id": "34d7vwdj8IdU",
        "outputId": "2acfd61e-a438-4e33-d091-10c1ab77cf93"
      },
      "outputs": [
        {
          "name": "stdout",
          "output_type": "stream",
          "text": [
            "Collecting git+https://github.com/afnan47/cuda.git\n",
            "  Cloning https://github.com/afnan47/cuda.git to c:\\users\\91914\\appdata\\local\\temp\\pip-req-build-vlsxmlj0\n",
            "  Resolved https://github.com/afnan47/cuda.git to commit aac710a35f52bb78ab34d2e52517237941399eff\n",
            "  Preparing metadata (setup.py): started\n",
            "  Preparing metadata (setup.py): finished with status 'done'\n",
            "Building wheels for collected packages: NVCCPlugin\n",
            "  Building wheel for NVCCPlugin (setup.py): started\n",
            "  Building wheel for NVCCPlugin (setup.py): finished with status 'done'\n",
            "  Created wheel for NVCCPlugin: filename=NVCCPlugin-0.0.2-py3-none-any.whl size=4329 sha256=f734a8d084fd703f3f34e2339d38f3b2305a95d9350b567b9782bf4ff9f414b9\n",
            "  Stored in directory: C:\\Users\\91914\\AppData\\Local\\Temp\\pip-ephem-wheel-cache-4jmqgv4p\\wheels\\bc\\4e\\e0\\2d86bd15f671dbeb32144013f1159dba09757fde36dc51a963\n",
            "Successfully built NVCCPlugin\n",
            "Installing collected packages: NVCCPlugin\n",
            "Successfully installed NVCCPlugin-0.0.2\n",
            "directory c:\\Users\\91914\\Desktop\\LPV\\LPV\\HPC\\exp_4\\src already exists\n",
            "Out bin c:\\Users\\91914\\Desktop\\LPV\\LPV\\HPC\\exp_4\\result.out\n"
          ]
        },
        {
          "name": "stderr",
          "output_type": "stream",
          "text": [
            "  Running command git clone --filter=blob:none --quiet https://github.com/afnan47/cuda.git 'C:\\Users\\91914\\AppData\\Local\\Temp\\pip-req-build-vlsxmlj0'\n"
          ]
        }
      ],
      "source": [
        "# Set up CUDA\n",
        "#First Change runtime to GPU and run this cell\n",
        "!pip install git+https://github.com/afnan47/cuda.git\n",
        "%load_ext nvcc_plugin"
      ]
    },
    {
      "cell_type": "code",
      "execution_count": 2,
      "metadata": {
        "colab": {
          "base_uri": "https://localhost:8080/"
        },
        "id": "7P-5O1AmkYsJ",
        "outputId": "6c202039-a162-4e75-c4d3-21b5e6ab772d"
      },
      "outputs": [
        {
          "name": "stdout",
          "output_type": "stream",
          "text": [
            "Writing vector_add.cu\n"
          ]
        }
      ],
      "source": [
        "%%writefile vector_add.cu\n",
        "#include <stdio.h>\n",
        "#include <stdlib.h>\n",
        "#include <cuda_runtime.h>\n",
        "\n",
        "__global__\n",
        "void add(int* A, int* B, int* C, int size) {\n",
        "    int tid = blockIdx.x * blockDim.x + threadIdx.x;\n",
        "    if (tid < size) {\n",
        "        C[tid] = A[tid] + B[tid];\n",
        "    }\n",
        "}\n",
        "\n",
        "__global__\n",
        "void multiply(int* A, int* B, int* C, int size) {\n",
        "    int row = blockIdx.y * blockDim.y + threadIdx.y;\n",
        "    int col = blockIdx.x * blockDim.x + threadIdx.x;\n",
        "    if (row < size && col < size) {\n",
        "        int sum = 0;\n",
        "        for (int i = 0; i < size; i++) {\n",
        "            sum += A[row * size + i] * B[i * size + col];\n",
        "        }\n",
        "        C[row * size + col] = sum;\n",
        "    }\n",
        "}\n",
        "\n",
        "void initializeVector(int* vector, int size) {\n",
        "    for (int i = 0; i < size; i++) {\n",
        "        vector[i] = rand() % 10;\n",
        "    }\n",
        "}\n",
        "\n",
        "void initializeMatrix(int* matrix, int size) {\n",
        "    for (int i = 0; i < size * size; i++) {\n",
        "        matrix[i] = rand() % 10;\n",
        "    }\n",
        "}\n",
        "\n",
        "void printVector(int* vector, int size) {\n",
        "    for (int i = 0; i < size; i++) {\n",
        "        printf(\"%d \", vector[i]);\n",
        "    }\n",
        "    printf(\"\\n\");\n",
        "}\n",
        "\n",
        "void printMatrix(int* matrix, int size) {\n",
        "    for (int row = 0; row < size; row++) {\n",
        "        for (int col = 0; col < size; col++) {\n",
        "            printf(\"%d \", matrix[row * size + col]);\n",
        "        }\n",
        "        printf(\"\\n\");\n",
        "    }\n",
        "    printf(\"\\n\");\n",
        "}\n",
        "\n",
        "int main() {\n",
        "    int N = 4;\n",
        "    cudaError_t err;\n",
        "\n",
        "    // -------------------- Vector Addition --------------------\n",
        "    int *A, *B, *C;\n",
        "    size_t vectorBytes = N * sizeof(int);\n",
        "\n",
        "    A = (int*)malloc(vectorBytes);\n",
        "    B = (int*)malloc(vectorBytes);\n",
        "    C = (int*)malloc(vectorBytes);\n",
        "\n",
        "    initializeVector(A, N);\n",
        "    initializeVector(B, N);\n",
        "\n",
        "    printf(\"Vector A: \");\n",
        "    printVector(A, N);\n",
        "    printf(\"Vector B: \");\n",
        "    printVector(B, N);\n",
        "\n",
        "    int *d_A, *d_B, *d_C;\n",
        "    err = cudaMalloc(&d_A, vectorBytes);\n",
        "    err = cudaMalloc(&d_B, vectorBytes);\n",
        "    err = cudaMalloc(&d_C, vectorBytes);\n",
        "\n",
        "    err = cudaMemcpy(d_A, A, vectorBytes, cudaMemcpyHostToDevice);\n",
        "    err = cudaMemcpy(d_B, B, vectorBytes, cudaMemcpyHostToDevice);\n",
        "\n",
        "    int threadsPerBlock = 256;\n",
        "    int blocks = (N + threadsPerBlock - 1) / threadsPerBlock;\n",
        "\n",
        "    add<<<blocks, threadsPerBlock>>>(d_A, d_B, d_C, N);\n",
        "    err = cudaGetLastError();\n",
        "    if (err != cudaSuccess) {\n",
        "        printf(\"CUDA error (add): %s\\n\", cudaGetErrorString(err));\n",
        "    }\n",
        "    cudaDeviceSynchronize();\n",
        "\n",
        "    err = cudaMemcpy(C, d_C, vectorBytes, cudaMemcpyDeviceToHost);\n",
        "\n",
        "    printf(\"Addition: \");\n",
        "    printVector(C, N);\n",
        "\n",
        "    free(A); free(B); free(C);\n",
        "    cudaFree(d_A); cudaFree(d_B); cudaFree(d_C);\n",
        "\n",
        "    // -------------------- Matrix Multiplication --------------------\n",
        "    int *D, *E, *F;\n",
        "    size_t matrixBytes = N * N * sizeof(int);\n",
        "\n",
        "    D = (int*)malloc(matrixBytes);\n",
        "    E = (int*)malloc(matrixBytes);\n",
        "    F = (int*)malloc(matrixBytes);\n",
        "\n",
        "    initializeMatrix(D, N);\n",
        "    initializeMatrix(E, N);\n",
        "\n",
        "    printf(\"\\nMatrix D: \\n\");\n",
        "    printMatrix(D, N);\n",
        "    printf(\"Matrix E: \\n\");\n",
        "    printMatrix(E, N);\n",
        "\n",
        "    int *d_D, *d_E, *d_F;\n",
        "    err = cudaMalloc(&d_D, matrixBytes);\n",
        "    err = cudaMalloc(&d_E, matrixBytes);\n",
        "    err = cudaMalloc(&d_F, matrixBytes);\n",
        "\n",
        "    err = cudaMemcpy(d_D, D, matrixBytes, cudaMemcpyHostToDevice);\n",
        "    err = cudaMemcpy(d_E, E, matrixBytes, cudaMemcpyHostToDevice);\n",
        "\n",
        "    dim3 threads(2, 2);\n",
        "    dim3 blocksMat((N + threads.x - 1) / threads.x, (N + threads.y - 1) / threads.y);\n",
        "\n",
        "    multiply<<<blocksMat, threads>>>(d_D, d_E, d_F, N);\n",
        "    err = cudaGetLastError();\n",
        "    if (err != cudaSuccess) {\n",
        "        printf(\"CUDA error (multiply): %s\\n\", cudaGetErrorString(err));\n",
        "    }\n",
        "    cudaDeviceSynchronize();\n",
        "\n",
        "    err = cudaMemcpy(F, d_F, matrixBytes, cudaMemcpyDeviceToHost);\n",
        "\n",
        "    printf(\"Multiplication: \\n\");\n",
        "    printMatrix(F, N);\n",
        "\n",
        "    free(D); free(E); free(F);\n",
        "    cudaFree(d_D); cudaFree(d_E); cudaFree(d_F);\n",
        "\n",
        "    return 0;\n",
        "}\n"
      ]
    },
    {
      "cell_type": "code",
      "execution_count": 3,
      "metadata": {
        "id": "d-U8QGwSkoTz"
      },
      "outputs": [
        {
          "name": "stderr",
          "output_type": "stream",
          "text": [
            "'nvcc' is not recognized as an internal or external command,\n",
            "operable program or batch file.\n"
          ]
        }
      ],
      "source": [
        "!nvcc -arch=sm_70 vector_add.cu -o vector_add\n"
      ]
    },
    {
      "cell_type": "code",
      "execution_count": 4,
      "metadata": {
        "colab": {
          "base_uri": "https://localhost:8080/"
        },
        "id": "zrMwulO-ktFa",
        "outputId": "da5e66b2-05c2-415e-d723-755183788020"
      },
      "outputs": [
        {
          "name": "stderr",
          "output_type": "stream",
          "text": [
            "'.' is not recognized as an internal or external command,\n",
            "operable program or batch file.\n"
          ]
        }
      ],
      "source": [
        "!./vector_add\n"
      ]
    },
    {
      "cell_type": "code",
      "execution_count": 5,
      "metadata": {
        "colab": {
          "base_uri": "https://localhost:8080/"
        },
        "id": "FXpfByqHmkun",
        "outputId": "88646e0c-bf68-4597-8913-a4a95b1465a1"
      },
      "outputs": [
        {
          "name": "stderr",
          "output_type": "stream",
          "text": [
            "'nvidia-smi' is not recognized as an internal or external command,\n",
            "operable program or batch file.\n"
          ]
        }
      ],
      "source": [
        "!nvidia-smi\n"
      ]
    },
    {
      "cell_type": "code",
      "execution_count": null,
      "metadata": {},
      "outputs": [],
      "source": []
    },
    {
      "cell_type": "code",
      "execution_count": null,
      "metadata": {},
      "outputs": [],
      "source": []
    }
  ],
  "metadata": {
    "accelerator": "GPU",
    "colab": {
      "gpuType": "T4",
      "provenance": []
    },
    "kernelspec": {
      "display_name": "base",
      "language": "python",
      "name": "python3"
    },
    "language_info": {
      "codemirror_mode": {
        "name": "ipython",
        "version": 3
      },
      "file_extension": ".py",
      "mimetype": "text/x-python",
      "name": "python",
      "nbconvert_exporter": "python",
      "pygments_lexer": "ipython3",
      "version": "3.11.4"
    }
  },
  "nbformat": 4,
  "nbformat_minor": 0
}
