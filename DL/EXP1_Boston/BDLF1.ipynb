{
 "cells": [
  {
   "cell_type": "code",
   "execution_count": 1,
   "id": "9bf965d2-117a-411b-8a83-b2e81593deda",
   "metadata": {},
   "outputs": [],
   "source": [
    "import tensorflow as tf"
   ]
  },
  {
   "cell_type": "code",
   "execution_count": 2,
   "id": "7047db21-3876-48ee-b766-dd9d43ebad9a",
   "metadata": {},
   "outputs": [],
   "source": [
    "from sklearn.model_selection import train_test_split"
   ]
  },
  {
   "cell_type": "code",
   "execution_count": 3,
   "id": "c597bfc2-af86-4948-b73b-32183e4b5564",
   "metadata": {},
   "outputs": [],
   "source": [
    "from tensorflow.keras.layers import Dense"
   ]
  },
  {
   "cell_type": "code",
   "execution_count": 4,
   "id": "f3f72f2f-1a9b-4eed-bb42-231391d0bac4",
   "metadata": {},
   "outputs": [],
   "source": [
    "from tensorflow.keras.models import Sequential"
   ]
  },
  {
   "cell_type": "code",
   "execution_count": 5,
   "id": "1d412f3a-2fcc-40c7-8516-c42e589a1081",
   "metadata": {},
   "outputs": [],
   "source": [
    "from sklearn.preprocessing import StandardScaler"
   ]
  },
  {
   "cell_type": "code",
   "execution_count": 6,
   "id": "8e2072e8-4841-4348-b6bd-31166e1248f0",
   "metadata": {},
   "outputs": [
    {
     "name": "stdout",
     "output_type": "stream",
     "text": [
      "      CRIM    ZN  INDUS  CHAS    NOX     RM   AGE     DIS  RAD  TAX  PTRATIO  \\\n",
      "0  0.00632  18.0   2.31   0.0  0.538  6.575  65.2  4.0900    1  296     15.3   \n",
      "1  0.02731   0.0   7.07   0.0  0.469  6.421  78.9  4.9671    2  242     17.8   \n",
      "2  0.02729   0.0   7.07   0.0  0.469  7.185  61.1  4.9671    2  242     17.8   \n",
      "3  0.03237   0.0   2.18   0.0  0.458  6.998  45.8  6.0622    3  222     18.7   \n",
      "4  0.06905   0.0   2.18   0.0  0.458  7.147  54.2  6.0622    3  222     18.7   \n",
      "\n",
      "        B  LSTAT  MEDV  \n",
      "0  396.90   4.98  24.0  \n",
      "1  396.90   9.14  21.6  \n",
      "2  392.83   4.03  34.7  \n",
      "3  394.63   2.94  33.4  \n",
      "4  396.90    NaN  36.2  \n"
     ]
    }
   ],
   "source": [
    "import pandas as pd\n",
    "import numpy as np\n",
    "df = pd.read_csv(\"HousingData (1).csv\")\n",
    "print(df.head())"
   ]
  },
  {
   "cell_type": "code",
   "execution_count": 7,
   "id": "b0cdd1f5-3485-496f-9674-6b09239cfb62",
   "metadata": {},
   "outputs": [],
   "source": [
    "x = df.drop(\"MEDV\", axis=1).values  \n",
    "y = df[\"MEDV\"].values\n"
   ]
  },
  {
   "cell_type": "code",
   "execution_count": 8,
   "id": "33dd37c5-f18d-49c1-94c4-814aff1c2a6c",
   "metadata": {},
   "outputs": [],
   "source": [
    "x_train, x_test, y_train, y_test = train_test_split(x, y, test_size=0.2, random_state=42)"
   ]
  },
  {
   "cell_type": "code",
   "execution_count": 9,
   "id": "1632f101-162b-4b47-bd52-1002c5ad9f98",
   "metadata": {},
   "outputs": [],
   "source": [
    "scaler=StandardScaler()"
   ]
  },
  {
   "cell_type": "code",
   "execution_count": 10,
   "id": "f72620c1-240d-49a1-a670-1b367d5e1b61",
   "metadata": {},
   "outputs": [],
   "source": [
    "x_train = scaler.fit_transform(x_train)"
   ]
  },
  {
   "cell_type": "code",
   "execution_count": 11,
   "id": "c507529c-76d6-4e95-9e0e-957bdc58ad93",
   "metadata": {},
   "outputs": [],
   "source": [
    "x_test = scaler.transform(x_test)"
   ]
  },
  {
   "cell_type": "code",
   "execution_count": 12,
   "id": "1712d518-c4b9-4e20-adb2-a4c96f6ea301",
   "metadata": {},
   "outputs": [],
   "source": [
    "model= Sequential([\n",
    "    Dense(64, activation='relu', input_shape=(x_train.shape[1],)),\n",
    "    Dense(64, activation='relu'),\n",
    "    Dense(1)\n",
    "])"
   ]
  },
  {
   "cell_type": "code",
   "execution_count": 13,
   "id": "0943f1a3-66af-41f3-ac74-6b4090d1a32d",
   "metadata": {},
   "outputs": [],
   "source": [
    "model.compile(optimizer='adam', loss='mse',metrics=['mae'])"
   ]
  },
  {
   "cell_type": "code",
   "execution_count": 14,
   "id": "1462e1b2-3ae2-4bc5-863c-0dc50e7a7814",
   "metadata": {},
   "outputs": [
    {
     "name": "stdout",
     "output_type": "stream",
     "text": [
      "Epoch 1/100\n",
      "41/41 [==============================] - 2s 17ms/step - loss: nan - mae: nan - val_loss: nan - val_mae: nan\n",
      "Epoch 2/100\n",
      "41/41 [==============================] - 0s 5ms/step - loss: nan - mae: nan - val_loss: nan - val_mae: nan\n",
      "Epoch 3/100\n",
      "41/41 [==============================] - 0s 5ms/step - loss: nan - mae: nan - val_loss: nan - val_mae: nan\n",
      "Epoch 4/100\n",
      "41/41 [==============================] - 0s 6ms/step - loss: nan - mae: nan - val_loss: nan - val_mae: nan\n",
      "Epoch 5/100\n",
      "41/41 [==============================] - 0s 5ms/step - loss: nan - mae: nan - val_loss: nan - val_mae: nan\n",
      "Epoch 6/100\n",
      "41/41 [==============================] - 0s 5ms/step - loss: nan - mae: nan - val_loss: nan - val_mae: nan\n",
      "Epoch 7/100\n",
      "41/41 [==============================] - 0s 5ms/step - loss: nan - mae: nan - val_loss: nan - val_mae: nan\n",
      "Epoch 8/100\n",
      "41/41 [==============================] - 0s 5ms/step - loss: nan - mae: nan - val_loss: nan - val_mae: nan\n",
      "Epoch 9/100\n",
      "41/41 [==============================] - 0s 5ms/step - loss: nan - mae: nan - val_loss: nan - val_mae: nan\n",
      "Epoch 10/100\n",
      "41/41 [==============================] - 0s 5ms/step - loss: nan - mae: nan - val_loss: nan - val_mae: nan\n",
      "Epoch 11/100\n",
      "41/41 [==============================] - 0s 5ms/step - loss: nan - mae: nan - val_loss: nan - val_mae: nan\n",
      "Epoch 12/100\n",
      "41/41 [==============================] - 0s 5ms/step - loss: nan - mae: nan - val_loss: nan - val_mae: nan\n",
      "Epoch 13/100\n",
      "41/41 [==============================] - 0s 4ms/step - loss: nan - mae: nan - val_loss: nan - val_mae: nan\n",
      "Epoch 14/100\n",
      "41/41 [==============================] - 0s 11ms/step - loss: nan - mae: nan - val_loss: nan - val_mae: nan\n",
      "Epoch 15/100\n",
      "41/41 [==============================] - 0s 6ms/step - loss: nan - mae: nan - val_loss: nan - val_mae: nan\n",
      "Epoch 16/100\n",
      "41/41 [==============================] - 0s 6ms/step - loss: nan - mae: nan - val_loss: nan - val_mae: nan\n",
      "Epoch 17/100\n",
      "41/41 [==============================] - 0s 7ms/step - loss: nan - mae: nan - val_loss: nan - val_mae: nan\n",
      "Epoch 18/100\n",
      "41/41 [==============================] - 0s 5ms/step - loss: nan - mae: nan - val_loss: nan - val_mae: nan\n",
      "Epoch 19/100\n",
      "41/41 [==============================] - 0s 6ms/step - loss: nan - mae: nan - val_loss: nan - val_mae: nan\n",
      "Epoch 20/100\n",
      "41/41 [==============================] - 0s 5ms/step - loss: nan - mae: nan - val_loss: nan - val_mae: nan\n",
      "Epoch 21/100\n",
      "41/41 [==============================] - 0s 5ms/step - loss: nan - mae: nan - val_loss: nan - val_mae: nan\n",
      "Epoch 22/100\n",
      "41/41 [==============================] - 0s 5ms/step - loss: nan - mae: nan - val_loss: nan - val_mae: nan\n",
      "Epoch 23/100\n",
      "41/41 [==============================] - 0s 5ms/step - loss: nan - mae: nan - val_loss: nan - val_mae: nan\n",
      "Epoch 24/100\n",
      "41/41 [==============================] - 0s 5ms/step - loss: nan - mae: nan - val_loss: nan - val_mae: nan\n",
      "Epoch 25/100\n",
      "41/41 [==============================] - 0s 5ms/step - loss: nan - mae: nan - val_loss: nan - val_mae: nan\n",
      "Epoch 26/100\n",
      "41/41 [==============================] - 0s 8ms/step - loss: nan - mae: nan - val_loss: nan - val_mae: nan\n",
      "Epoch 27/100\n",
      "41/41 [==============================] - 0s 5ms/step - loss: nan - mae: nan - val_loss: nan - val_mae: nan\n",
      "Epoch 28/100\n",
      "41/41 [==============================] - 0s 9ms/step - loss: nan - mae: nan - val_loss: nan - val_mae: nan\n",
      "Epoch 29/100\n",
      "41/41 [==============================] - 0s 7ms/step - loss: nan - mae: nan - val_loss: nan - val_mae: nan\n",
      "Epoch 30/100\n",
      "41/41 [==============================] - 0s 7ms/step - loss: nan - mae: nan - val_loss: nan - val_mae: nan\n",
      "Epoch 31/100\n",
      "41/41 [==============================] - 0s 7ms/step - loss: nan - mae: nan - val_loss: nan - val_mae: nan\n",
      "Epoch 32/100\n",
      "41/41 [==============================] - 1s 14ms/step - loss: nan - mae: nan - val_loss: nan - val_mae: nan\n",
      "Epoch 33/100\n",
      "41/41 [==============================] - 0s 9ms/step - loss: nan - mae: nan - val_loss: nan - val_mae: nan\n",
      "Epoch 34/100\n",
      "41/41 [==============================] - 0s 6ms/step - loss: nan - mae: nan - val_loss: nan - val_mae: nan\n",
      "Epoch 35/100\n",
      "41/41 [==============================] - 0s 6ms/step - loss: nan - mae: nan - val_loss: nan - val_mae: nan\n",
      "Epoch 36/100\n",
      "41/41 [==============================] - 0s 5ms/step - loss: nan - mae: nan - val_loss: nan - val_mae: nan\n",
      "Epoch 37/100\n",
      "41/41 [==============================] - 0s 5ms/step - loss: nan - mae: nan - val_loss: nan - val_mae: nan\n",
      "Epoch 38/100\n",
      "41/41 [==============================] - 0s 4ms/step - loss: nan - mae: nan - val_loss: nan - val_mae: nan\n",
      "Epoch 39/100\n",
      "41/41 [==============================] - 0s 4ms/step - loss: nan - mae: nan - val_loss: nan - val_mae: nan\n",
      "Epoch 40/100\n",
      "41/41 [==============================] - 0s 6ms/step - loss: nan - mae: nan - val_loss: nan - val_mae: nan\n",
      "Epoch 41/100\n",
      "41/41 [==============================] - 0s 8ms/step - loss: nan - mae: nan - val_loss: nan - val_mae: nan\n",
      "Epoch 42/100\n",
      "41/41 [==============================] - 0s 5ms/step - loss: nan - mae: nan - val_loss: nan - val_mae: nan\n",
      "Epoch 43/100\n",
      "41/41 [==============================] - 1s 15ms/step - loss: nan - mae: nan - val_loss: nan - val_mae: nan\n",
      "Epoch 44/100\n",
      "41/41 [==============================] - 0s 9ms/step - loss: nan - mae: nan - val_loss: nan - val_mae: nan\n",
      "Epoch 45/100\n",
      "41/41 [==============================] - 0s 9ms/step - loss: nan - mae: nan - val_loss: nan - val_mae: nan\n",
      "Epoch 46/100\n",
      "41/41 [==============================] - 0s 4ms/step - loss: nan - mae: nan - val_loss: nan - val_mae: nan\n",
      "Epoch 47/100\n",
      "41/41 [==============================] - 0s 5ms/step - loss: nan - mae: nan - val_loss: nan - val_mae: nan\n",
      "Epoch 48/100\n",
      "41/41 [==============================] - 0s 5ms/step - loss: nan - mae: nan - val_loss: nan - val_mae: nan\n",
      "Epoch 49/100\n",
      "41/41 [==============================] - 0s 8ms/step - loss: nan - mae: nan - val_loss: nan - val_mae: nan\n",
      "Epoch 50/100\n",
      "41/41 [==============================] - 0s 8ms/step - loss: nan - mae: nan - val_loss: nan - val_mae: nan\n",
      "Epoch 51/100\n",
      "41/41 [==============================] - 0s 8ms/step - loss: nan - mae: nan - val_loss: nan - val_mae: nan\n",
      "Epoch 52/100\n",
      "41/41 [==============================] - 0s 7ms/step - loss: nan - mae: nan - val_loss: nan - val_mae: nan\n",
      "Epoch 53/100\n",
      "41/41 [==============================] - 0s 5ms/step - loss: nan - mae: nan - val_loss: nan - val_mae: nan\n",
      "Epoch 54/100\n",
      "41/41 [==============================] - 0s 4ms/step - loss: nan - mae: nan - val_loss: nan - val_mae: nan\n",
      "Epoch 55/100\n",
      "41/41 [==============================] - 0s 4ms/step - loss: nan - mae: nan - val_loss: nan - val_mae: nan\n",
      "Epoch 56/100\n",
      "41/41 [==============================] - 0s 5ms/step - loss: nan - mae: nan - val_loss: nan - val_mae: nan\n",
      "Epoch 57/100\n",
      "41/41 [==============================] - 0s 4ms/step - loss: nan - mae: nan - val_loss: nan - val_mae: nan\n",
      "Epoch 58/100\n",
      "41/41 [==============================] - 0s 4ms/step - loss: nan - mae: nan - val_loss: nan - val_mae: nan\n",
      "Epoch 59/100\n",
      "41/41 [==============================] - 0s 4ms/step - loss: nan - mae: nan - val_loss: nan - val_mae: nan\n",
      "Epoch 60/100\n",
      "41/41 [==============================] - 0s 4ms/step - loss: nan - mae: nan - val_loss: nan - val_mae: nan\n",
      "Epoch 61/100\n",
      "41/41 [==============================] - 0s 5ms/step - loss: nan - mae: nan - val_loss: nan - val_mae: nan\n",
      "Epoch 62/100\n",
      "41/41 [==============================] - 0s 4ms/step - loss: nan - mae: nan - val_loss: nan - val_mae: nan\n",
      "Epoch 63/100\n",
      "41/41 [==============================] - 0s 4ms/step - loss: nan - mae: nan - val_loss: nan - val_mae: nan\n",
      "Epoch 64/100\n",
      "41/41 [==============================] - 0s 5ms/step - loss: nan - mae: nan - val_loss: nan - val_mae: nan\n",
      "Epoch 65/100\n",
      "41/41 [==============================] - 0s 5ms/step - loss: nan - mae: nan - val_loss: nan - val_mae: nan\n",
      "Epoch 66/100\n",
      "41/41 [==============================] - 0s 5ms/step - loss: nan - mae: nan - val_loss: nan - val_mae: nan\n",
      "Epoch 67/100\n",
      "41/41 [==============================] - 0s 5ms/step - loss: nan - mae: nan - val_loss: nan - val_mae: nan\n",
      "Epoch 68/100\n",
      "41/41 [==============================] - 0s 6ms/step - loss: nan - mae: nan - val_loss: nan - val_mae: nan\n",
      "Epoch 69/100\n",
      "41/41 [==============================] - 0s 6ms/step - loss: nan - mae: nan - val_loss: nan - val_mae: nan\n",
      "Epoch 70/100\n",
      "41/41 [==============================] - 0s 4ms/step - loss: nan - mae: nan - val_loss: nan - val_mae: nan\n",
      "Epoch 71/100\n",
      "41/41 [==============================] - 0s 4ms/step - loss: nan - mae: nan - val_loss: nan - val_mae: nan\n",
      "Epoch 72/100\n",
      "41/41 [==============================] - 0s 10ms/step - loss: nan - mae: nan - val_loss: nan - val_mae: nan\n",
      "Epoch 73/100\n",
      "41/41 [==============================] - 0s 7ms/step - loss: nan - mae: nan - val_loss: nan - val_mae: nan\n",
      "Epoch 74/100\n",
      "41/41 [==============================] - 0s 9ms/step - loss: nan - mae: nan - val_loss: nan - val_mae: nan\n",
      "Epoch 75/100\n",
      "41/41 [==============================] - 0s 8ms/step - loss: nan - mae: nan - val_loss: nan - val_mae: nan\n",
      "Epoch 76/100\n",
      "41/41 [==============================] - 0s 11ms/step - loss: nan - mae: nan - val_loss: nan - val_mae: nan\n",
      "Epoch 77/100\n",
      "41/41 [==============================] - 0s 6ms/step - loss: nan - mae: nan - val_loss: nan - val_mae: nan\n",
      "Epoch 78/100\n",
      "41/41 [==============================] - 0s 9ms/step - loss: nan - mae: nan - val_loss: nan - val_mae: nan\n",
      "Epoch 79/100\n",
      "41/41 [==============================] - 0s 9ms/step - loss: nan - mae: nan - val_loss: nan - val_mae: nan\n",
      "Epoch 80/100\n",
      "41/41 [==============================] - 0s 8ms/step - loss: nan - mae: nan - val_loss: nan - val_mae: nan\n",
      "Epoch 81/100\n",
      "41/41 [==============================] - 0s 7ms/step - loss: nan - mae: nan - val_loss: nan - val_mae: nan\n",
      "Epoch 82/100\n",
      "41/41 [==============================] - 0s 7ms/step - loss: nan - mae: nan - val_loss: nan - val_mae: nan\n",
      "Epoch 83/100\n",
      "41/41 [==============================] - 0s 7ms/step - loss: nan - mae: nan - val_loss: nan - val_mae: nan\n",
      "Epoch 84/100\n",
      "41/41 [==============================] - 0s 6ms/step - loss: nan - mae: nan - val_loss: nan - val_mae: nan\n",
      "Epoch 85/100\n",
      "41/41 [==============================] - 0s 6ms/step - loss: nan - mae: nan - val_loss: nan - val_mae: nan\n",
      "Epoch 86/100\n",
      "41/41 [==============================] - 0s 7ms/step - loss: nan - mae: nan - val_loss: nan - val_mae: nan\n",
      "Epoch 87/100\n",
      "41/41 [==============================] - 0s 7ms/step - loss: nan - mae: nan - val_loss: nan - val_mae: nan\n",
      "Epoch 88/100\n",
      "41/41 [==============================] - 0s 6ms/step - loss: nan - mae: nan - val_loss: nan - val_mae: nan\n",
      "Epoch 89/100\n",
      "41/41 [==============================] - 0s 6ms/step - loss: nan - mae: nan - val_loss: nan - val_mae: nan\n",
      "Epoch 90/100\n",
      "41/41 [==============================] - 0s 6ms/step - loss: nan - mae: nan - val_loss: nan - val_mae: nan\n",
      "Epoch 91/100\n",
      "41/41 [==============================] - 0s 5ms/step - loss: nan - mae: nan - val_loss: nan - val_mae: nan\n",
      "Epoch 92/100\n",
      "41/41 [==============================] - 0s 6ms/step - loss: nan - mae: nan - val_loss: nan - val_mae: nan\n",
      "Epoch 93/100\n",
      "41/41 [==============================] - 0s 7ms/step - loss: nan - mae: nan - val_loss: nan - val_mae: nan\n",
      "Epoch 94/100\n",
      "41/41 [==============================] - 0s 6ms/step - loss: nan - mae: nan - val_loss: nan - val_mae: nan\n",
      "Epoch 95/100\n",
      "41/41 [==============================] - 0s 5ms/step - loss: nan - mae: nan - val_loss: nan - val_mae: nan\n",
      "Epoch 96/100\n",
      "41/41 [==============================] - 0s 5ms/step - loss: nan - mae: nan - val_loss: nan - val_mae: nan\n",
      "Epoch 97/100\n",
      "41/41 [==============================] - 0s 5ms/step - loss: nan - mae: nan - val_loss: nan - val_mae: nan\n",
      "Epoch 98/100\n",
      "41/41 [==============================] - 1s 15ms/step - loss: nan - mae: nan - val_loss: nan - val_mae: nan\n",
      "Epoch 99/100\n",
      "41/41 [==============================] - 1s 16ms/step - loss: nan - mae: nan - val_loss: nan - val_mae: nan\n",
      "Epoch 100/100\n",
      "41/41 [==============================] - 1s 17ms/step - loss: nan - mae: nan - val_loss: nan - val_mae: nan\n"
     ]
    },
    {
     "data": {
      "text/plain": [
       "<keras.callbacks.History at 0x1814817fe50>"
      ]
     },
     "execution_count": 14,
     "metadata": {},
     "output_type": "execute_result"
    }
   ],
   "source": [
    "model.fit(x_train, y_train, epochs=100, batch_size=8, validation_split=0.2, verbose=1)"
   ]
  },
  {
   "cell_type": "code",
   "execution_count": 15,
   "id": "d9afb3c4-7d6f-42ce-993d-9982a7f47107",
   "metadata": {},
   "outputs": [],
   "source": [
    "loss, mae = model.evaluate(x_test,y_test,verbose=0)"
   ]
  },
  {
   "cell_type": "code",
   "execution_count": 16,
   "id": "f75fbe56-615e-49ba-9d56-d950c3dbd666",
   "metadata": {},
   "outputs": [
    {
     "name": "stdout",
     "output_type": "stream",
     "text": [
      "Test MAE:nan\n"
     ]
    }
   ],
   "source": [
    "print(f\"Test MAE:{mae:.2f}\")"
   ]
  },
  {
   "cell_type": "code",
   "execution_count": 17,
   "id": "abaaea61-8ccf-4275-a701-144b4d2a4bdc",
   "metadata": {},
   "outputs": [
    {
     "name": "stdout",
     "output_type": "stream",
     "text": [
      "1/1 [==============================] - 1s 958ms/step\n",
      "Sample Predictions: [nan nan nan nan nan]\n",
      "Actual Values     : [23.6 32.4 13.6 22.8 16.1]\n"
     ]
    }
   ],
   "source": [
    "predictions = model.predict(x_test[:5]).flatten()\n",
    "print(\"Sample Predictions:\", predictions)\n",
    "print(\"Actual Values     :\", y_test[:5])"
   ]
  },
  {
   "cell_type": "code",
   "execution_count": null,
   "id": "5f568a99-c1d9-4931-995a-cf4da6ea57aa",
   "metadata": {},
   "outputs": [],
   "source": []
  }
 ],
 "metadata": {
  "kernelspec": {
   "display_name": "Python 3 (ipykernel)",
   "language": "python",
   "name": "python3"
  },
  "language_info": {
   "codemirror_mode": {
    "name": "ipython",
    "version": 3
   },
   "file_extension": ".py",
   "mimetype": "text/x-python",
   "name": "python",
   "nbconvert_exporter": "python",
   "pygments_lexer": "ipython3",
   "version": "3.10.0"
  }
 },
 "nbformat": 4,
 "nbformat_minor": 5
}
